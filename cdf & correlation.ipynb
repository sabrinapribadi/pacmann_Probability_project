{
 "cells": [
  {
   "cell_type": "code",
   "execution_count": 26,
   "metadata": {},
   "outputs": [],
   "source": [
    "# Basic imports\n",
    "import numpy as np\n",
    "import matplotlib.pyplot as plt\n",
    "import pandas as pd\n",
    "from scipy.stats import norm\n",
    "from scipy.stats import expon\n",
    "import seaborn as sn\n",
    "import matplotlib.pyplot as plt\n"
   ]
  },
  {
   "cell_type": "code",
   "execution_count": 27,
   "metadata": {},
   "outputs": [],
   "source": [
    "insurance = pd.read_csv('insurance.csv')\n",
    "insurance = pd.DataFrame(insurance)"
   ]
  },
  {
   "cell_type": "code",
   "execution_count": 28,
   "metadata": {},
   "outputs": [
    {
     "name": "stdout",
     "output_type": "stream",
     "text": [
      "      age     sex     bmi  children smoker     region      charges\n",
      "0      19  female  27.900         0    yes  southwest  16884.92400\n",
      "1      18    male  33.770         1     no  southeast   1725.55230\n",
      "2      28    male  33.000         3     no  southeast   4449.46200\n",
      "3      33    male  22.705         0     no  northwest  21984.47061\n",
      "4      32    male  28.880         0     no  northwest   3866.85520\n",
      "...   ...     ...     ...       ...    ...        ...          ...\n",
      "1333   50    male  30.970         3     no  northwest  10600.54830\n",
      "1334   18  female  31.920         0     no  northeast   2205.98080\n",
      "1335   18  female  36.850         0     no  southeast   1629.83350\n",
      "1336   21  female  25.800         0     no  southwest   2007.94500\n",
      "1337   61  female  29.070         0    yes  northwest  29141.36030\n",
      "\n",
      "[1338 rows x 7 columns]\n"
     ]
    }
   ],
   "source": [
    "print(insurance)"
   ]
  },
  {
   "cell_type": "markdown",
   "metadata": {},
   "source": [
    "Nbr 3.3"
   ]
  },
  {
   "cell_type": "code",
   "execution_count": 29,
   "metadata": {},
   "outputs": [
    {
     "name": "stdout",
     "output_type": "stream",
     "text": [
      "The probability if a smoker has Charges >= 16.7K:  0.19\n"
     ]
    }
   ],
   "source": [
    "# Condition 3.3\n",
    "\n",
    "condition_3_3 = insurance[(insurance.charges>=16700) & (insurance.smoker == 'yes')]\n",
    "\n",
    "# Count length of the data\n",
    "n_condition_3_3 = len(condition_3_3)\n",
    "n_insurance = len(insurance)\n",
    "\n",
    "# Calculate each probability\n",
    "pdf_condition_3_3 = np.round(n_condition_3_3/n_insurance,2)\n",
    "\n",
    "\n",
    "print(\"The probability if a smoker has Charges >= 16.7K: \", pdf_condition_3_3)"
   ]
  },
  {
   "cell_type": "markdown",
   "metadata": {},
   "source": [
    "Nbr 3.4"
   ]
  },
  {
   "cell_type": "code",
   "execution_count": 30,
   "metadata": {},
   "outputs": [
    {
     "name": "stdout",
     "output_type": "stream",
     "text": [
      "The probability if BMI >=25 & Charges >= 16.7K:  0.21\n",
      "The probability if BMI <25 & Charges >= 16.7K:  0.04\n"
     ]
    }
   ],
   "source": [
    "# Condition 3.4\n",
    "# Create conditional data\n",
    "condition_1_1 = insurance[(insurance.bmi>=25) & (insurance.charges>=16700)]\n",
    "condition_1_2 = insurance[(insurance.bmi<25) & (insurance.charges>=16700)]\n",
    "\n",
    "# Count length of the data\n",
    "n_condition1_1 = len(condition_1_1)\n",
    "n_condition1_2 = len(condition_1_2)\n",
    "n_insurance = len(insurance)\n",
    "\n",
    "# Calculate each probability\n",
    "pdf_condition_1_1 = np.round(n_condition1_1/n_insurance,2)\n",
    "pdf_condition_1_2 = np.round(n_condition1_2/n_insurance,2)\n",
    "\n",
    "print(\"The probability if BMI >=25 & Charges >= 16.7K: \", pdf_condition_1_1)\n",
    "print(\"The probability if BMI <25 & Charges >= 16.7K: \", pdf_condition_1_2)\n"
   ]
  },
  {
   "cell_type": "markdown",
   "metadata": {},
   "source": [
    "Nbr 3.5"
   ]
  },
  {
   "cell_type": "code",
   "execution_count": 31,
   "metadata": {},
   "outputs": [
    {
     "name": "stdout",
     "output_type": "stream",
     "text": [
      "The probability if a smoker & BMI >=25 & Charges >= 16.7K:  0.16\n",
      "The probability if a non-smoker & BMI <25 & Charges >= 16.7K:  0.05\n"
     ]
    }
   ],
   "source": [
    "# Condition 3.5\n",
    "# Create conditional data\n",
    "condition_2_1 = insurance[(insurance.smoker == 'yes') & (insurance.bmi>=25) & (insurance.charges>=16700)]\n",
    "condition_2_2 = insurance[(insurance.smoker == 'no') & (insurance.bmi>=25) & (insurance.charges>=16700)]\n",
    "\n",
    "# Count length of the data\n",
    "n_condition2_1 = len(condition_2_1)\n",
    "n_condition2_2 = len(condition_2_2)\n",
    "n_insurance = len(insurance)\n",
    "\n",
    "# Calculate each probability\n",
    "pdf_condition_2_1 = np.round(n_condition2_1/n_insurance,2)\n",
    "pdf_condition_2_2 = np.round(n_condition2_2/n_insurance,2)\n",
    "\n",
    "print(\"The probability if a smoker & BMI >=25 & Charges >= 16.7K: \", pdf_condition_2_1)\n",
    "print(\"The probability if a non-smoker & BMI <25 & Charges >= 16.7K: \", pdf_condition_2_2)"
   ]
  },
  {
   "cell_type": "markdown",
   "metadata": {},
   "source": [
    "Correlation Matrix"
   ]
  },
  {
   "cell_type": "code",
   "execution_count": 8,
   "metadata": {},
   "outputs": [
    {
     "data": {
      "image/png": "[encoded data removed]",
      "text/plain": [
       "<Figure size 432x288 with 2 Axes>"
      ]
     },
     "metadata": {
      "needs_background": "light"
     },
     "output_type": "display_data"
    }
   ],
   "source": [
    "corrMatrix = insurance.corr()\n",
    "sn.heatmap(corrMatrix, annot=True)\n",
    "plt.show()"
   ]
  },
  {
   "cell_type": "code",
   "execution_count": 9,
   "metadata": {},
   "outputs": [
    {
     "data": {
      "image/png": "[encoded data removed]",
      "text/plain": [
       "<Figure size 432x288 with 2 Axes>"
      ]
     },
     "metadata": {
      "needs_background": "light"
     },
     "output_type": "display_data"
    }
   ],
   "source": [
    "# Create conditional data\n",
    "condition_1_1 = insurance[(insurance.bmi>=25) & (insurance.charges>=16700)]\n",
    "\n",
    "# Create Correlation Matrix based on the condition\n",
    "corrMatrix = condition_1_1.corr()\n",
    "sn.heatmap(corrMatrix, annot=True)\n",
    "plt.show()"
   ]
  },
  {
   "cell_type": "code",
   "execution_count": 10,
   "metadata": {},
   "outputs": [
    {
     "data": {
      "image/png": "[encoded data removed]",
      "text/plain": [
       "<Figure size 432x288 with 2 Axes>"
      ]
     },
     "metadata": {
      "needs_background": "light"
     },
     "output_type": "display_data"
    }
   ],
   "source": [
    "# Create conditional data\n",
    "condition_2_1 = insurance[(insurance.smoker == 'yes') & (insurance.bmi>=25) & (insurance.charges>=16700)]\n",
    "\n",
    "# Create Correlation Matrix based on the condition\n",
    "corrMatrix = condition_2_1.corr()\n",
    "sn.heatmap(corrMatrix, annot=True)\n",
    "plt.show()"
   ]
  },
  {
   "cell_type": "markdown",
   "metadata": {},
   "source": [
    "Hypothesis Testing Data"
   ]
  },
  {
   "cell_type": "code",
   "execution_count": 11,
   "metadata": {},
   "outputs": [],
   "source": [
    "insurance_condition = insurance"
   ]
  },
  {
   "cell_type": "code",
   "execution_count": 32,
   "metadata": {},
   "outputs": [
    {
     "data": {
      "text/html": [
       "<div>\n",
       "<style scoped>\n",
       "    .dataframe tbody tr th:only-of-type {\n",
       "        vertical-align: middle;\n",
       "    }\n",
       "\n",
       "    .dataframe tbody tr th {\n",
       "        vertical-align: top;\n",
       "    }\n",
       "\n",
       "    .dataframe thead th {\n",
       "        text-align: right;\n",
       "    }\n",
       "</style>\n",
       "<table border=\"1\" class=\"dataframe\">\n",
       "  <thead>\n",
       "    <tr style=\"text-align: right;\">\n",
       "      <th></th>\n",
       "      <th>age</th>\n",
       "      <th>sex</th>\n",
       "      <th>bmi</th>\n",
       "      <th>children</th>\n",
       "      <th>smoker</th>\n",
       "      <th>region</th>\n",
       "      <th>charges</th>\n",
       "      <th>bmi_group</th>\n",
       "    </tr>\n",
       "  </thead>\n",
       "  <tbody>\n",
       "    <tr>\n",
       "      <th>0</th>\n",
       "      <td>19</td>\n",
       "      <td>female</td>\n",
       "      <td>27.900</td>\n",
       "      <td>0</td>\n",
       "      <td>yes</td>\n",
       "      <td>southwest</td>\n",
       "      <td>16884.92400</td>\n",
       "      <td>bmi&gt;=25</td>\n",
       "    </tr>\n",
       "    <tr>\n",
       "      <th>1</th>\n",
       "      <td>18</td>\n",
       "      <td>male</td>\n",
       "      <td>33.770</td>\n",
       "      <td>1</td>\n",
       "      <td>no</td>\n",
       "      <td>southeast</td>\n",
       "      <td>1725.55230</td>\n",
       "      <td>bmi&gt;=25</td>\n",
       "    </tr>\n",
       "    <tr>\n",
       "      <th>2</th>\n",
       "      <td>28</td>\n",
       "      <td>male</td>\n",
       "      <td>33.000</td>\n",
       "      <td>3</td>\n",
       "      <td>no</td>\n",
       "      <td>southeast</td>\n",
       "      <td>4449.46200</td>\n",
       "      <td>bmi&gt;=25</td>\n",
       "    </tr>\n",
       "    <tr>\n",
       "      <th>3</th>\n",
       "      <td>33</td>\n",
       "      <td>male</td>\n",
       "      <td>22.705</td>\n",
       "      <td>0</td>\n",
       "      <td>no</td>\n",
       "      <td>northwest</td>\n",
       "      <td>21984.47061</td>\n",
       "      <td>bmi&lt;25</td>\n",
       "    </tr>\n",
       "    <tr>\n",
       "      <th>4</th>\n",
       "      <td>32</td>\n",
       "      <td>male</td>\n",
       "      <td>28.880</td>\n",
       "      <td>0</td>\n",
       "      <td>no</td>\n",
       "      <td>northwest</td>\n",
       "      <td>3866.85520</td>\n",
       "      <td>bmi&gt;=25</td>\n",
       "    </tr>\n",
       "    <tr>\n",
       "      <th>...</th>\n",
       "      <td>...</td>\n",
       "      <td>...</td>\n",
       "      <td>...</td>\n",
       "      <td>...</td>\n",
       "      <td>...</td>\n",
       "      <td>...</td>\n",
       "      <td>...</td>\n",
       "      <td>...</td>\n",
       "    </tr>\n",
       "    <tr>\n",
       "      <th>1333</th>\n",
       "      <td>50</td>\n",
       "      <td>male</td>\n",
       "      <td>30.970</td>\n",
       "      <td>3</td>\n",
       "      <td>no</td>\n",
       "      <td>northwest</td>\n",
       "      <td>10600.54830</td>\n",
       "      <td>bmi&gt;=25</td>\n",
       "    </tr>\n",
       "    <tr>\n",
       "      <th>1334</th>\n",
       "      <td>18</td>\n",
       "      <td>female</td>\n",
       "      <td>31.920</td>\n",
       "      <td>0</td>\n",
       "      <td>no</td>\n",
       "      <td>northeast</td>\n",
       "      <td>2205.98080</td>\n",
       "      <td>bmi&gt;=25</td>\n",
       "    </tr>\n",
       "    <tr>\n",
       "      <th>1335</th>\n",
       "      <td>18</td>\n",
       "      <td>female</td>\n",
       "      <td>36.850</td>\n",
       "      <td>0</td>\n",
       "      <td>no</td>\n",
       "      <td>southeast</td>\n",
       "      <td>1629.83350</td>\n",
       "      <td>bmi&gt;=25</td>\n",
       "    </tr>\n",
       "    <tr>\n",
       "      <th>1336</th>\n",
       "      <td>21</td>\n",
       "      <td>female</td>\n",
       "      <td>25.800</td>\n",
       "      <td>0</td>\n",
       "      <td>no</td>\n",
       "      <td>southwest</td>\n",
       "      <td>2007.94500</td>\n",
       "      <td>bmi&gt;=25</td>\n",
       "    </tr>\n",
       "    <tr>\n",
       "      <th>1337</th>\n",
       "      <td>61</td>\n",
       "      <td>female</td>\n",
       "      <td>29.070</td>\n",
       "      <td>0</td>\n",
       "      <td>yes</td>\n",
       "      <td>northwest</td>\n",
       "      <td>29141.36030</td>\n",
       "      <td>bmi&gt;=25</td>\n",
       "    </tr>\n",
       "  </tbody>\n",
       "</table>\n",
       "<p>1338 rows × 8 columns</p>\n",
       "</div>"
      ],
      "text/plain": [
       "      age     sex     bmi  children smoker     region      charges bmi_group\n",
       "0      19  female  27.900         0    yes  southwest  16884.92400   bmi>=25\n",
       "1      18    male  33.770         1     no  southeast   1725.55230   bmi>=25\n",
       "2      28    male  33.000         3     no  southeast   4449.46200   bmi>=25\n",
       "3      33    male  22.705         0     no  northwest  21984.47061    bmi<25\n",
       "4      32    male  28.880         0     no  northwest   3866.85520   bmi>=25\n",
       "...   ...     ...     ...       ...    ...        ...          ...       ...\n",
       "1333   50    male  30.970         3     no  northwest  10600.54830   bmi>=25\n",
       "1334   18  female  31.920         0     no  northeast   2205.98080   bmi>=25\n",
       "1335   18  female  36.850         0     no  southeast   1629.83350   bmi>=25\n",
       "1336   21  female  25.800         0     no  southwest   2007.94500   bmi>=25\n",
       "1337   61  female  29.070         0    yes  northwest  29141.36030   bmi>=25\n",
       "\n",
       "[1338 rows x 8 columns]"
      ]
     },
     "execution_count": 32,
     "metadata": {},
     "output_type": "execute_result"
    }
   ],
   "source": [
    "insurance_condition['bmi_group'] = np.where(insurance_condition['bmi']>=25, \"bmi>=25\", \"bmi<25\")\n",
    "insurance_condition"
   ]
  },
  {
   "cell_type": "code",
   "execution_count": 33,
   "metadata": {},
   "outputs": [],
   "source": [
    "insurance_condition.to_csv(\"insurance_condition_5_2.csv\")"
   ]
  }
 ],
 "metadata": {
  "kernelspec": {
   "display_name": "Python 3.10.5 64-bit",
   "language": "python",
   "name": "python3"
  },
  "language_info": {
   "codemirror_mode": {
    "name": "ipython",
    "version": 3
   },
   "file_extension": ".py",
   "mimetype": "text/x-python",
   "name": "python",
   "nbconvert_exporter": "python",
   "pygments_lexer": "ipython3",
   "version": "3.10.5"
  },
  "orig_nbformat": 4,
  "vscode": {
   "interpreter": {
    "hash": "1c205b3b4e1ee6b730ca94bd20f9101f9696acf80907801a889313a145b06a4d"
   }
  }
 },
 "nbformat": 4,
 "nbformat_minor": 2
}
